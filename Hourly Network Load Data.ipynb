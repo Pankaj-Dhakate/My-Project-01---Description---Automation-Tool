{
 "cells": [
  {
   "cell_type": "markdown",
   "metadata": {},
   "source": [
    "## Automation Tool "
   ]
  },
  {
   "cell_type": "markdown",
   "metadata": {},
   "source": [
    "### To calculate 'TOTAL Load in Erlang', 'Transit load in Erlang' & 'Tech2 load in Erlang' from Network Load Data Report"
   ]
  },
  {
   "cell_type": "code",
   "execution_count": 3,
   "metadata": {},
   "outputs": [],
   "source": [
    "import pandas as pd\n",
    "import numpy as np\n",
    "import matplotlib.pyplot as plt"
   ]
  },
  {
   "cell_type": "code",
   "execution_count": null,
   "metadata": {},
   "outputs": [],
   "source": [
    "%%HTML\n",
    "<style type=\"text/css\">\n",
    "table.dataframe td, table.dataframe th {\n",
    "    border: 1px  black solid !important;\n",
    "  color: black !important;\n",
    "}\n",
    "</style>"
   ]
  },
  {
   "cell_type": "markdown",
   "metadata": {},
   "source": [
    "#### 1) Raw Network Load data id downloaded from Portal. Saved in local drive."
   ]
  },
  {
   "cell_type": "code",
   "execution_count": 4,
   "metadata": {},
   "outputs": [
    {
     "data": {
      "text/html": [
       "<div>\n",
       "<style scoped>\n",
       "    .dataframe tbody tr th:only-of-type {\n",
       "        vertical-align: middle;\n",
       "    }\n",
       "\n",
       "    .dataframe tbody tr th {\n",
       "        vertical-align: top;\n",
       "    }\n",
       "\n",
       "    .dataframe thead th {\n",
       "        text-align: right;\n",
       "    }\n",
       "</style>\n",
       "<table border=\"1\" class=\"dataframe\">\n",
       "  <thead>\n",
       "    <tr style=\"text-align: right;\">\n",
       "      <th></th>\n",
       "      <th>Date_Time</th>\n",
       "      <th>UNIT_NAME</th>\n",
       "      <th>LOAD_CATAGORY</th>\n",
       "      <th>LOAD_ID</th>\n",
       "      <th>LOAD_TRAFFX100</th>\n",
       "      <th>LOAD_CS_AMOUNT</th>\n",
       "    </tr>\n",
       "  </thead>\n",
       "  <tbody>\n",
       "    <tr>\n",
       "      <th>0</th>\n",
       "      <td>12.25.2007 00:00:00</td>\n",
       "      <td>UNIT03LOC1</td>\n",
       "      <td>---</td>\n",
       "      <td>18</td>\n",
       "      <td>0.0</td>\n",
       "      <td>0.0</td>\n",
       "    </tr>\n",
       "    <tr>\n",
       "      <th>1</th>\n",
       "      <td>12.25.2007 00:00:00</td>\n",
       "      <td>UNIT03LOC1</td>\n",
       "      <td>---</td>\n",
       "      <td>19</td>\n",
       "      <td>0.0</td>\n",
       "      <td>0.0</td>\n",
       "    </tr>\n",
       "    <tr>\n",
       "      <th>2</th>\n",
       "      <td>12.25.2007 00:00:00</td>\n",
       "      <td>UNIT03LOC1</td>\n",
       "      <td>TECH1 INTERNAL</td>\n",
       "      <td>37</td>\n",
       "      <td>745.0</td>\n",
       "      <td>188.0</td>\n",
       "    </tr>\n",
       "  </tbody>\n",
       "</table>\n",
       "</div>"
      ],
      "text/plain": [
       "             Date_Time   UNIT_NAME   LOAD_CATAGORY  LOAD_ID  LOAD_TRAFFX100  \\\n",
       "0  12.25.2007 00:00:00  UNIT03LOC1             ---       18             0.0   \n",
       "1  12.25.2007 00:00:00  UNIT03LOC1             ---       19             0.0   \n",
       "2  12.25.2007 00:00:00  UNIT03LOC1  TECH1 INTERNAL       37           745.0   \n",
       "\n",
       "   LOAD_CS_AMOUNT  \n",
       "0             0.0  \n",
       "1             0.0  \n",
       "2           188.0  "
      ]
     },
     "execution_count": 4,
     "metadata": {},
     "output_type": "execute_result"
    }
   ],
   "source": [
    "df = pd.read_csv('E:\\\\D Drive\\\\Study\\\\Analytics\\\\My Projects\\\\TECH_LOAD_DATA.csv')\n",
    "df.head(3)"
   ]
  },
  {
   "cell_type": "markdown",
   "metadata": {},
   "source": [
    "#### 2) Calculate the No. of UNIT_NAME available in data"
   ]
  },
  {
   "cell_type": "code",
   "execution_count": 6,
   "metadata": {},
   "outputs": [
    {
     "data": {
      "text/plain": [
       "26"
      ]
     },
     "execution_count": 6,
     "metadata": {},
     "output_type": "execute_result"
    }
   ],
   "source": [
    "msc=df.UNIT_NAME.unique()\n",
    "msc.sort()\n",
    "total_msc=len(msc)\n",
    "total_msc"
   ]
  },
  {
   "cell_type": "markdown",
   "metadata": {},
   "source": [
    "#### 3) Calculate the No. of hours available in data"
   ]
  },
  {
   "cell_type": "code",
   "execution_count": 7,
   "metadata": {},
   "outputs": [
    {
     "data": {
      "text/plain": [
       "24"
      ]
     },
     "execution_count": 7,
     "metadata": {},
     "output_type": "execute_result"
    }
   ],
   "source": [
    "hour=df.Date_Time.unique()\n",
    "hour.sort()\n",
    "hour_len=len(hour)\n",
    "hour_len"
   ]
  },
  {
   "cell_type": "markdown",
   "metadata": {},
   "source": [
    "## 'TOTAL Load in Erlang' Calculation:"
   ]
  },
  {
   "cell_type": "raw",
   "metadata": {},
   "source": [
    "4) For each UNIT_NAME, 'TOTAL Load in Erlang' to be calculated from column sum of 'LOAD_TRAFFX100' with 'LOAD_ID'=2, 5 & 7 only \n",
    "\n",
    "5) 'LOAD_TRAFFX100' with 'LOAD_ID'=2, 5 & 7 to be summed for every hours. Max value among all hour's summed values to be considered as 'TOTAL Load in Erlang' for that UNIT_NAME\n",
    "\n",
    "6) Display UNIT_NAME, Date_Time (hour for which max sum of 'LOAD_TRAFFX100' for \"LOAD_ID'=2, 5 & 7\" obtained) and value of 'TOTAL Load in Erlang'=Max[('LOAD_ID'=2, 5 & 7),sum(LOAD_TRAFFX100)] for that hour\n"
   ]
  },
  {
   "cell_type": "code",
   "execution_count": 8,
   "metadata": {},
   "outputs": [
    {
     "name": "stdout",
     "output_type": "stream",
     "text": [
      "----TOTAL Load in Erlang----\n",
      "AAGwUNIT04, 12.25.2007 19:00:00, 14355.48\n",
      "AAGwUNIT06, 12.25.2007 20:00:00, 18699.69\n",
      "AGwUNIT01LOC1, 12.25.2007 20:00:00, 30806.75\n",
      "AGwUNIT02LOC4, 12.25.2007 20:00:00, 3496.26\n",
      "ATUNIT01LOC2, 12.25.2007 20:00:00, 8467.9\n",
      "AUNIT15LOC1, 12.25.2007 20:00:00, 41964.61\n",
      "AUNIT16LOC4, 12.25.2007 20:00:00, 61667.4\n",
      "AUNIT17LOC1, 12.25.2007 20:00:00, 71576.1\n",
      "AUNIT18LOC1, 12.25.2007 19:00:00, 64657.97\n",
      "AUNIT20LOC1, 12.25.2007 20:00:00, 50712.2\n",
      "AUNIT21LOC4, 12.25.2007 19:00:00, 42132.53\n",
      "AUNIT22LOC2, 12.25.2007 20:00:00, 50355.79\n",
      "LUNIT01LOC3, 12.25.2007 12:00:00, 6464.35\n",
      "LUNIT02LOC3, 12.25.2007 20:00:00, 8735.9\n",
      "UNIT01LOC3, 12.25.2007 20:00:00, 10791.1\n",
      "UNIT03LOC1, 12.25.2007 20:00:00, 6701.4\n",
      "UNIT06LOC4, 12.25.2007 20:00:00, 3208.15\n",
      "UNIT07LOC1, 12.25.2007 19:00:00, 18649.84\n",
      "UNIT08LOC3, 12.25.2007 20:00:00, 17262.6\n",
      "UNIT09LOC4, 12.25.2007 20:00:00, 16790.21\n",
      "UNIT10LOC3, 12.25.2007 20:00:00, 20723.94\n",
      "UNIT11LOC1, 12.25.2007 20:00:00, 17175.03\n",
      "UNIT12LOC4, 12.25.2007 20:00:00, 19762.47\n",
      "UNIT13LOC3, 12.25.2007 20:00:00, 19895.22\n",
      "UNIT14LOC1, 12.25.2007 20:00:00, 20857.71\n",
      "UNIT19LOC2, 12.25.2007 12:00:00, 2152.0\n"
     ]
    }
   ],
   "source": [
    "#print(\"-\"*50)\n",
    "print(\"----TOTAL Load in Erlang----\")\n",
    "\n",
    "erl1=0\n",
    "for j in range(total_msc):\n",
    "    erl1=0\n",
    "    for i in range(hour_len):\n",
    "        erl=df.loc[(df['Date_Time']==hour[i])&(df['UNIT_NAME']==msc[j]) & ((df['LOAD_ID']==2)|(df['LOAD_ID']==5)|(df['LOAD_ID']==7)), 'LOAD_TRAFFX100'].sum()\n",
    "        if erl>=erl1:\n",
    "            erl1=erl\n",
    "            busyhour=hour[i]\n",
    "    print(\"{}, {}, {}\".format(msc[j],busyhour,erl1.round(2)/100))"
   ]
  },
  {
   "cell_type": "markdown",
   "metadata": {},
   "source": [
    "## 'Transit load in Erlang' Calculation:"
   ]
  },
  {
   "cell_type": "raw",
   "metadata": {},
   "source": [
    "7) For each UNIT_NAME, 'Transit load in Erlang' to be calculated from column 'LOAD_TRAFFX100' with 'LOAD_ID'=2 only\n",
    "\n",
    "8) 'LOAD_TRAFFX100' with 'LOAD_ID'=2 to be taken for all hours. Max value among all hour's values to be considered as 'Transit load in Erlang' for that UNIT_NAME\n",
    "\n",
    "9) Display UNIT_NAME, Date_Time (hour for which max sum of 'LOAD_TRAFFX100' for \"LOAD_ID'=2\" obtained) and value of 'Transit load in Erlang'=Max[('LOAD_ID'=2),sum(LOAD_TRAFFX100)] for that hour\n"
   ]
  },
  {
   "cell_type": "code",
   "execution_count": 9,
   "metadata": {},
   "outputs": [
    {
     "name": "stdout",
     "output_type": "stream",
     "text": [
      "----Transit load in Erlang----\n",
      "AAGwUNIT04, 12.25.2007 19:00:00, 14355.48\n",
      "AAGwUNIT06, 12.25.2007 20:00:00, 18699.69\n",
      "AGwUNIT01LOC1, 12.25.2007 20:00:00, 30806.75\n",
      "AGwUNIT02LOC4, 12.25.2007 20:00:00, 3496.26\n",
      "ATUNIT01LOC2, 12.25.2007 20:00:00, 8467.9\n",
      "AUNIT15LOC1, 12.25.2007 20:00:00, 3859.65\n",
      "AUNIT16LOC4, 12.25.2007 20:00:00, 4803.35\n",
      "AUNIT17LOC1, 12.25.2007 20:00:00, 8391.5\n",
      "AUNIT18LOC1, 12.25.2007 19:00:00, 2212.14\n",
      "AUNIT20LOC1, 12.25.2007 20:00:00, 3763.93\n",
      "AUNIT21LOC4, 12.25.2007 19:00:00, 2308.47\n",
      "AUNIT22LOC2, 12.25.2007 20:00:00, 2923.45\n",
      "LUNIT01LOC3, 12.25.2007 12:00:00, 6464.35\n",
      "LUNIT02LOC3, 12.25.2007 20:00:00, 8735.9\n",
      "UNIT01LOC3, 12.25.2007 20:00:00, 1018.9\n",
      "UNIT03LOC1, 12.25.2007 20:00:00, 1731.75\n",
      "UNIT06LOC4, 12.25.2007 20:00:00, 225.5\n",
      "UNIT07LOC1, 12.25.2007 19:00:00, 4895.62\n",
      "UNIT08LOC3, 12.25.2007 20:00:00, 10733.05\n",
      "UNIT09LOC4, 12.25.2007 20:00:00, 9541.13\n",
      "UNIT10LOC3, 12.25.2007 20:00:00, 13017.17\n",
      "UNIT11LOC1, 12.25.2007 20:00:00, 5505.94\n",
      "UNIT12LOC4, 12.25.2007 20:00:00, 10715.23\n",
      "UNIT13LOC3, 12.25.2007 20:00:00, 5456.13\n",
      "UNIT14LOC1, 12.25.2007 20:00:00, 8731.68\n",
      "UNIT19LOC2, 12.25.2007 12:00:00, 2037.6\n"
     ]
    }
   ],
   "source": [
    "print(\"----Transit load in Erlang----\")    \n",
    "# Final Transit\n",
    "\n",
    "erl1=0\n",
    "for j in range(total_msc):\n",
    "    erl1=0\n",
    "    for i in range(hour_len):\n",
    "        erl=df.loc[(df['Date_Time']==hour[i])&(df['UNIT_NAME']==msc[j]) & ((df['LOAD_ID']==2)), 'LOAD_TRAFFX100'].sum()\n",
    "        if erl>=erl1:\n",
    "            erl1=erl\n",
    "            busyhour=hour[i]\n",
    "    print(\"{}, {}, {}\".format(msc[j],busyhour,erl1.round(2)/100))"
   ]
  },
  {
   "cell_type": "markdown",
   "metadata": {},
   "source": [
    "## 'Tech2 load in Erlang' Calculation:"
   ]
  },
  {
   "cell_type": "raw",
   "metadata": {},
   "source": [
    "\n",
    "7) For each UNIT_NAME, 'Tech2 load in Erlang' to be calculated from column sum of 'LOAD_TRAFFX100' with 'LOAD_ID'=32 & 33 only \n",
    "\n",
    "8) 'LOAD_TRAFFX100' with 'LOAD_ID'=32 & 33 to be summed for every hours. Max value among all hour's summed values to be considered as 'Tech2 load in Erlang' for that UNIT_NAME\n",
    "\n",
    "9) Display UNIT_NAME, Date_Time (hour for which max sum of 'LOAD_TRAFFX100' for \"LOAD_ID'=32 & 33\" obtained) and value of 'Tech2 load in Erlang'=Max[('LOAD_ID'=32 & 33),sum(LOAD_TRAFFX100)] "
   ]
  },
  {
   "cell_type": "code",
   "execution_count": null,
   "metadata": {},
   "outputs": [],
   "source": [
    "print(\"----Tech2 Load in Erlang----\")     \n",
    "# Final Tech2\n",
    "erl1=0\n",
    "for j in range(total_msc):\n",
    "    erl1=0\n",
    "    for i in range(hour_len):\n",
    "        erl=df.loc[(df['Date_Time']==hour[i])&(df['UNIT_NAME']==msc[j]) & ((df['LOAD_ID']==32)|(df['LOAD_ID']==33)), 'LOAD_TRAFFX100'].sum()\n",
    "        if erl>=erl1:\n",
    "            erl1=erl\n",
    "            busyhour=hour[i]\n",
    "    print(\"{}, {}, {}\".format(msc[j],busyhour,erl1.round(2)/100))"
   ]
  },
  {
   "cell_type": "code",
   "execution_count": 10,
   "metadata": {},
   "outputs": [
    {
     "name": "stdout",
     "output_type": "stream",
     "text": [
      "----Tech2 Load in Erlang----\n",
      "AAGwUNIT04, 12.25.2007 23:00:00, 0.0\n",
      "AAGwUNIT06, 12.25.2007 23:00:00, 0.0\n",
      "AGwUNIT01LOC1, 12.25.2007 23:00:00, 0.0\n",
      "AGwUNIT02LOC4, 12.25.2007 23:00:00, 0.0\n",
      "ATUNIT01LOC2, 12.25.2007 23:00:00, 0.0\n",
      "AUNIT15LOC1, 12.25.2007 20:00:00, 16904.95\n",
      "AUNIT16LOC4, 12.25.2007 19:00:00, 12276.2\n",
      "AUNIT17LOC1, 12.25.2007 20:00:00, 44297.45\n",
      "AUNIT18LOC1, 12.25.2007 19:00:00, 29138.99\n",
      "AUNIT20LOC1, 12.25.2007 20:00:00, 16198.09\n",
      "AUNIT21LOC4, 12.25.2007 19:00:00, 9597.62\n",
      "AUNIT22LOC2, 12.25.2007 16:00:00, 0.22\n",
      "LUNIT01LOC3, 12.25.2007 23:00:00, 0.0\n",
      "LUNIT02LOC3, 12.25.2007 23:00:00, 0.0\n",
      "UNIT01LOC3, 12.25.2007 20:00:00, 3407.1\n",
      "UNIT03LOC1, 12.25.2007 17:00:00, 0.35\n",
      "UNIT06LOC4, 12.25.2007 20:00:00, 1419.65\n",
      "UNIT07LOC1, 12.25.2007 20:00:00, 2026.85\n",
      "UNIT08LOC3, 12.25.2007 20:00:00, 5813.05\n",
      "UNIT09LOC4, 12.25.2007 20:00:00, 6432.32\n",
      "UNIT10LOC3, 12.25.2007 20:00:00, 3313.17\n",
      "UNIT11LOC1, 12.25.2007 20:00:00, 1246.63\n",
      "UNIT12LOC4, 12.25.2007 20:00:00, 5438.85\n",
      "UNIT13LOC3, 12.25.2007 20:00:00, 5979.78\n",
      "UNIT14LOC1, 12.25.2007 22:00:00, 1.45\n",
      "UNIT19LOC2, 12.25.2007 23:00:00, 0.0\n"
     ]
    }
   ],
   "source": [
    "print(\"----Tech2 Load in Erlang----\")     \n",
    "# Final Tech2\n",
    "erl1=0\n",
    "for j in range(total_msc):\n",
    "    erl1=0\n",
    "    for i in range(hour_len):\n",
    "        erl=df.loc[(df['Date_Time']==hour[i])&(df['UNIT_NAME']==msc[j]) & ((df['LOAD_ID']==32)|(df['LOAD_ID']==33)), 'LOAD_TRAFFX100'].sum()\n",
    "        if erl>=erl1:\n",
    "            erl1=erl\n",
    "            busyhour=hour[i]\n",
    "    print(\"{}, {}, {}\".format(msc[j],busyhour,erl1.round(2)/100))"
   ]
  },
  {
   "cell_type": "code",
   "execution_count": null,
   "metadata": {},
   "outputs": [],
   "source": []
  },
  {
   "cell_type": "markdown",
   "metadata": {},
   "source": [
    "## Final Code to run at one go"
   ]
  },
  {
   "cell_type": "code",
   "execution_count": 1,
   "metadata": {},
   "outputs": [
    {
     "name": "stdout",
     "output_type": "stream",
     "text": [
      "----TOTAL Load in Erlang----\n",
      "AAGwUNIT04, 12.25.2007 19:00:00, 14355.48\n",
      "AAGwUNIT06, 12.25.2007 20:00:00, 18699.69\n",
      "AGwUNIT01LOC1, 12.25.2007 20:00:00, 30806.75\n",
      "AGwUNIT02LOC4, 12.25.2007 20:00:00, 3496.26\n",
      "ATUNIT01LOC2, 12.25.2007 20:00:00, 8467.9\n",
      "AUNIT15LOC1, 12.25.2007 20:00:00, 41964.61\n",
      "AUNIT16LOC4, 12.25.2007 20:00:00, 61667.4\n",
      "AUNIT17LOC1, 12.25.2007 20:00:00, 71576.1\n",
      "AUNIT18LOC1, 12.25.2007 19:00:00, 64657.97\n",
      "AUNIT20LOC1, 12.25.2007 20:00:00, 50712.2\n",
      "AUNIT21LOC4, 12.25.2007 19:00:00, 42132.53\n",
      "AUNIT22LOC2, 12.25.2007 20:00:00, 50355.79\n",
      "LUNIT01LOC3, 12.25.2007 12:00:00, 6464.35\n",
      "LUNIT02LOC3, 12.25.2007 20:00:00, 8735.9\n",
      "UNIT01LOC3, 12.25.2007 20:00:00, 10791.1\n",
      "UNIT03LOC1, 12.25.2007 20:00:00, 6701.4\n",
      "UNIT06LOC4, 12.25.2007 20:00:00, 3208.15\n",
      "UNIT07LOC1, 12.25.2007 19:00:00, 18649.84\n",
      "UNIT08LOC3, 12.25.2007 20:00:00, 17262.6\n",
      "UNIT09LOC4, 12.25.2007 20:00:00, 16790.21\n",
      "UNIT10LOC3, 12.25.2007 20:00:00, 20723.94\n",
      "UNIT11LOC1, 12.25.2007 20:00:00, 17175.03\n",
      "UNIT12LOC4, 12.25.2007 20:00:00, 19762.47\n",
      "UNIT13LOC3, 12.25.2007 20:00:00, 19895.22\n",
      "UNIT14LOC1, 12.25.2007 20:00:00, 20857.71\n",
      "UNIT19LOC2, 12.25.2007 12:00:00, 2152.0\n",
      "----Transit load in Erlang----\n",
      "AAGwUNIT04, 12.25.2007 19:00:00, 14355.48\n",
      "AAGwUNIT06, 12.25.2007 20:00:00, 18699.69\n",
      "AGwUNIT01LOC1, 12.25.2007 20:00:00, 30806.75\n",
      "AGwUNIT02LOC4, 12.25.2007 20:00:00, 3496.26\n",
      "ATUNIT01LOC2, 12.25.2007 20:00:00, 8467.9\n",
      "AUNIT15LOC1, 12.25.2007 20:00:00, 3859.65\n",
      "AUNIT16LOC4, 12.25.2007 20:00:00, 4803.35\n",
      "AUNIT17LOC1, 12.25.2007 20:00:00, 8391.5\n",
      "AUNIT18LOC1, 12.25.2007 19:00:00, 2212.14\n",
      "AUNIT20LOC1, 12.25.2007 20:00:00, 3763.93\n",
      "AUNIT21LOC4, 12.25.2007 19:00:00, 2308.47\n",
      "AUNIT22LOC2, 12.25.2007 20:00:00, 2923.45\n",
      "LUNIT01LOC3, 12.25.2007 12:00:00, 6464.35\n",
      "LUNIT02LOC3, 12.25.2007 20:00:00, 8735.9\n",
      "UNIT01LOC3, 12.25.2007 20:00:00, 1018.9\n",
      "UNIT03LOC1, 12.25.2007 20:00:00, 1731.75\n",
      "UNIT06LOC4, 12.25.2007 20:00:00, 225.5\n",
      "UNIT07LOC1, 12.25.2007 19:00:00, 4895.62\n",
      "UNIT08LOC3, 12.25.2007 20:00:00, 10733.05\n",
      "UNIT09LOC4, 12.25.2007 20:00:00, 9541.13\n",
      "UNIT10LOC3, 12.25.2007 20:00:00, 13017.17\n",
      "UNIT11LOC1, 12.25.2007 20:00:00, 5505.94\n",
      "UNIT12LOC4, 12.25.2007 20:00:00, 10715.23\n",
      "UNIT13LOC3, 12.25.2007 20:00:00, 5456.13\n",
      "UNIT14LOC1, 12.25.2007 20:00:00, 8731.68\n",
      "UNIT19LOC2, 12.25.2007 12:00:00, 2037.6\n",
      "----Tech2 Load in Erlang----\n",
      "AAGwUNIT04, 12.25.2007 23:00:00, 0.0\n",
      "AAGwUNIT06, 12.25.2007 23:00:00, 0.0\n",
      "AGwUNIT01LOC1, 12.25.2007 23:00:00, 0.0\n",
      "AGwUNIT02LOC4, 12.25.2007 23:00:00, 0.0\n",
      "ATUNIT01LOC2, 12.25.2007 23:00:00, 0.0\n",
      "AUNIT15LOC1, 12.25.2007 20:00:00, 16904.95\n",
      "AUNIT16LOC4, 12.25.2007 19:00:00, 12276.2\n",
      "AUNIT17LOC1, 12.25.2007 20:00:00, 44297.45\n",
      "AUNIT18LOC1, 12.25.2007 19:00:00, 29138.99\n",
      "AUNIT20LOC1, 12.25.2007 20:00:00, 16198.09\n",
      "AUNIT21LOC4, 12.25.2007 19:00:00, 9597.62\n",
      "AUNIT22LOC2, 12.25.2007 16:00:00, 0.22\n",
      "LUNIT01LOC3, 12.25.2007 23:00:00, 0.0\n",
      "LUNIT02LOC3, 12.25.2007 23:00:00, 0.0\n",
      "UNIT01LOC3, 12.25.2007 20:00:00, 3407.1\n",
      "UNIT03LOC1, 12.25.2007 17:00:00, 0.35\n",
      "UNIT06LOC4, 12.25.2007 20:00:00, 1419.65\n",
      "UNIT07LOC1, 12.25.2007 20:00:00, 2026.85\n",
      "UNIT08LOC3, 12.25.2007 20:00:00, 5813.05\n",
      "UNIT09LOC4, 12.25.2007 20:00:00, 6432.32\n",
      "UNIT10LOC3, 12.25.2007 20:00:00, 3313.17\n",
      "UNIT11LOC1, 12.25.2007 20:00:00, 1246.63\n",
      "UNIT12LOC4, 12.25.2007 20:00:00, 5438.85\n",
      "UNIT13LOC3, 12.25.2007 20:00:00, 5979.78\n",
      "UNIT14LOC1, 12.25.2007 22:00:00, 1.45\n",
      "UNIT19LOC2, 12.25.2007 23:00:00, 0.0\n"
     ]
    }
   ],
   "source": [
    "import pandas as pd\n",
    "import numpy as np\n",
    "import matplotlib.pyplot as plt\n",
    "\n",
    "df = pd.read_csv('E:\\\\D Drive\\\\Study\\\\Analytics\\\\My Projects\\\\TECH_LOAD_DATA.csv')\n",
    "df.head(1)\n",
    "msc=df.UNIT_NAME.unique()\n",
    "msc.sort()\n",
    "total_msc=len(msc)\n",
    "hour=df.Date_Time.unique()\n",
    "hour.sort()\n",
    "hour_len=len(hour)\n",
    "\n",
    "#print(\"-\"*50)\n",
    "print(\"----TOTAL Load in Erlang----\")\n",
    "\n",
    "\n",
    "erl1=0\n",
    "for j in range(total_msc):\n",
    "    erl1=0\n",
    "    for i in range(hour_len):\n",
    "        erl=df.loc[(df['Date_Time']==hour[i])&(df['UNIT_NAME']==msc[j]) & ((df['LOAD_ID']==2)|(df['LOAD_ID']==5)|(df['LOAD_ID']==7)), 'LOAD_TRAFFX100'].sum()\n",
    "        if erl>=erl1:\n",
    "            erl1=erl\n",
    "            busyhour=hour[i]\n",
    "    print(\"{}, {}, {}\".format(msc[j],busyhour,erl1.round(2)/100))\n",
    "\n",
    "\n",
    "print(\"----Transit load in Erlang----\")    \n",
    "# Final Transit\n",
    "\n",
    "erl1=0\n",
    "for j in range(total_msc):\n",
    "    erl1=0\n",
    "    for i in range(hour_len):\n",
    "        erl=df.loc[(df['Date_Time']==hour[i])&(df['UNIT_NAME']==msc[j]) & ((df['LOAD_ID']==2)), 'LOAD_TRAFFX100'].sum()\n",
    "        if erl>=erl1:\n",
    "            erl1=erl\n",
    "            busyhour=hour[i]\n",
    "    print(\"{}, {}, {}\".format(msc[j],busyhour,erl1.round(2)/100))\n",
    "\n",
    "print(\"----Tech2 Load in Erlang----\")     \n",
    "# Final Tech2\n",
    "erl1=0\n",
    "for j in range(total_msc):\n",
    "    erl1=0\n",
    "    for i in range(hour_len):\n",
    "        erl=df.loc[(df['Date_Time']==hour[i])&(df['UNIT_NAME']==msc[j]) & ((df['LOAD_ID']==32)|(df['LOAD_ID']==33)), 'LOAD_TRAFFX100'].sum()\n",
    "        if erl>=erl1:\n",
    "            erl1=erl\n",
    "            busyhour=hour[i]\n",
    "    print(\"{}, {}, {}\".format(msc[j],busyhour,erl1.round(2)/100))"
   ]
  }
 ],
 "metadata": {
  "kernelspec": {
   "display_name": "Python 3",
   "language": "python",
   "name": "python3"
  },
  "language_info": {
   "codemirror_mode": {
    "name": "ipython",
    "version": 3
   },
   "file_extension": ".py",
   "mimetype": "text/x-python",
   "name": "python",
   "nbconvert_exporter": "python",
   "pygments_lexer": "ipython3",
   "version": "3.7.1"
  }
 },
 "nbformat": 4,
 "nbformat_minor": 2
}
